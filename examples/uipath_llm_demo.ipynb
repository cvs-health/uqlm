{
 "cells": [
  {
   "cell_type": "markdown",
   "metadata": {},
   "source": [
    "# Demonstrating UiPath LLM Integration with `uqlm.uipath_llms`\n",
    "\n",
    "This notebook demonstrates how to use the `get_uipath_llm` and `invoke_uipath_llm` functions from the `uqlm.uipath_llms` module to interact with Large Language Models (LLMs) managed by UiPath AI Trust Layer / LLM Gateway.\n",
    "\n",
    "**Prerequisites:**\n",
    "1. The `uipath-langchain` package must be installed (`pip install uipath-langchain`).\n",
    "2. You need access to a UiPath AI Trust Layer / LLM Gateway with configured LLM models.\n",
    "3. Necessary environment variables must be set up for authentication with your UiPath services. This is typically done using the UiPath CLI (`uipath auth`) or by manually setting them."
   ]
  },
  {
   "cell_type": "markdown",
   "metadata": {},
   "source": [
    "## 1. Import necessary functions"
   ]
  },
  {
   "cell_type": "code",
   "execution_count": null,
   "metadata": {},
   "outputs": [],
   "source": [
    "try:\n",
    "    from uqlm.uipath_llms import get_uipath_llm, invoke_uipath_llm\n",
    "    print(\"Successfully imported uipath_llms functions.\")\n",
    "except ImportError as e:\n",
    "    print(f\"Error importing uipath_llms: {e}\")\n",
    "    print(\"Please ensure that the UQLM package is correctly installed and uipath-langchain is available.\")"
   ]
  },
  {
   "cell_type": "markdown",
   "metadata": {},
   "source": [
    "## 2. Set Up Environment Variables (User Action Required)\n",
    "\n",
    "The `uipath-langchain` SDK typically relies on environment variables for authentication and configuration. Ensure these are set in your environment before running the subsequent cells. Common variables include:\n",
    "\n",
    "- `UIPATH_URL`: Your UiPath Automation Cloud URL (e.g., `https://cloud.uipath.com/yourorg/yourtenant`).\n",
    "- `UIPATH_CLIENT_ID`: Your UiPath application client ID (for OAuth).\n",
    "- `UIPATH_CLIENT_SECRET`: Your UiPath application client secret (for OAuth).\n",
    "- OR `UIPATH_ACCESS_TOKEN`: A direct access token.\n",
    "\n",
    "You can set these in your shell, or using a `.env` file with a library like `python-dotenv` (though for this demo, we assume they are pre-set in the environment where this notebook is run)."
   ]
  },
  {
   "cell_type": "code",
   "execution_count": null,
   "metadata": {},
   "outputs": [],
   "source": [
    "# Example of how you might load them if using python-dotenv (optional, not run here):\n",
    "# from dotenv import load_dotenv\n",
    "# load_dotenv()\n",
    "\n",
    "# import os\n",
    "# print(f\"UIPATH_URL: {os.getenv('UIPATH_URL')}\")\n",
    "# print(\"Ensure other necessary UIPATH environment variables are set.\")"
   ]
  },
  {
   "cell_type": "markdown",
   "metadata": {},
   "source": [
    "## 3. Initialize the UiPath LLM Client\n",
    "\n",
    "You'll need to specify the `llm_name`. This is the identifier of the model as configured in your UiPath AI Trust Layer / LLM Gateway (e.g., `\"anthropic.claude-3-opus-20240229-v1:0\"`, `\"gpt-4o-2024-05-13\"`).\n",
    "\n",
    "**Replace `\"your-uipath-llm-model-id\"` with the actual model ID you intend to use.**"
   ]
  },
  {
   "cell_type": "code",
   "execution_count": null,
   "metadata": {},
   "outputs": [],
   "source": [
    "llm_client = None\n",
    "try:\n",
    "    # IMPORTANT: Replace this with your actual UiPath LLM model name/ID\n",
    "    uipath_model_name = \"your-uipath-llm-model-id\" \n",
    "    \n",
    "    # Optional: if your setup requires a specific endpoint_url, provide it.\n",
    "    # endpoint_url = \"https://your.specific.uipath.endpoint/\"\n",
    "    endpoint_url = None\n",
    "    \n",
    "    print(f\"Attempting to initialize UiPath LLM: {uipath_model_name}...\")\n",
    "    # You can pass additional keyword arguments supported by UiPathChat here, e.g., temperature=0.7\n",
    "    llm_client = get_uipath_llm(llm_name=uipath_model_name, endpoint_url=endpoint_url)\n",
    "    print(\"UiPath LLM client initialized successfully.\")\n",
    "except ImportError:\n",
    "    print(\"Skipping LLM client initialization as uipath_llms could not be imported.\")\n",
    "except RuntimeError as e:\n",
    "    print(f\"RuntimeError initializing UiPath LLM client: {e}\")\n",
    "    print(\"Please check your UiPath environment variables, model name, and network connectivity.\")\n",
    "except Exception as e:\n",
    "    print(f\"An unexpected error occurred during LLM client initialization: {e}\")"
   ]
  },
  {
   "cell_type": "markdown",
   "metadata": {},
   "source": [
    "## 4. Invoke the LLM and Get a Response"
   ]
  },
  {
   "cell_type": "code",
   "execution_count": null,
   "metadata": {},
   "outputs": [],
   "source": [
    "if llm_client is not None:\n",
    "    sample_prompt = \"Hello, UiPath LLM! Can you tell me about the future of automation?\"\n",
    "    print(f\"Sending prompt: '{sample_prompt}'\")\n",
    "    \n",
    "    try:\n",
    "        response = invoke_uipath_llm(llm_client, sample_prompt)\n",
    "        print(\"\\nLLM Response:\")\n",
    "        print(response)\n",
    "    except ValueError as e:\n",
    "        print(f\"ValueError during LLM invocation: {e}\")\n",
    "    except RuntimeError as e:\n",
    "        print(f\"RuntimeError during LLM invocation: {e}\")\n",
    "    except Exception as e:\n",
    "        print(f\"An unexpected error occurred during LLM invocation: {e}\")\n",
    "else:\n",
    "    print(\"LLM client not initialized. Skipping invocation.\")"
   ]
  },
  {
   "cell_type": "markdown",
   "metadata": {},
   "source": [
    "## 5. Conclusion\n",
    "\n",
    "This notebook provided a basic walkthrough of using the `uqlm.uipath_llms` module. Remember to replace placeholder values (like the `uipath_model_name`) with your specific details and ensure your environment is correctly configured for UiPath API access."
   ]
  }
 ],
 "metadata": {
  "kernelspec": {
   "display_name": "Python 3 (ipykernel)",
   "language": "python",
   "name": "python3"
  },
  "language_info": {
   "codemirror_mode": {
    "name": "ipython",
    "version": 3
   },
   "file_extension": ".py",
   "mimetype": "text/x-python",
   "name": "python",
   "nbconvert_exporter": "python",
   "pygments_lexer": "ipython3",
   "version": "3.10.13"
  }
 },
 "nbformat": 4,
 "nbformat_minor": 5
}

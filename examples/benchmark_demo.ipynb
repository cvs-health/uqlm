{
 "cells": [
  {
   "cell_type": "markdown",
   "id": "525d6500",
   "metadata": {},
   "source": [
    "# Longform Response Benchmarking demo"
   ]
  },
  {
   "cell_type": "code",
   "execution_count": null,
   "id": "2cf39c9a",
   "metadata": {},
   "outputs": [],
   "source": [
    "from langchain_google_vertexai import ChatVertexAI\n",
    "from uqlm import LUQ\n",
    "from uqlm.benchmarks import FactScoreBenchmark"
   ]
  },
  {
   "cell_type": "code",
   "execution_count": null,
   "id": "79f990c2",
   "metadata": {},
   "outputs": [],
   "source": [
    "# initialize scorer method\n",
    "test_llm = ChatVertexAI(model=\"gemini-2.5-flash\",temperature=0)\n",
    "luq = LUQ(llm=test_llm)\n",
    "\n",
    "# initialize longform response benchmark with llm judge\n",
    "bench_llm = ChatVertexAI(model=\"gemini-2.5-pro\")\n",
    "fs = FactScoreBenchmark(judge_llm=bench_llm)\n",
    "\n",
    "# run benchmark\n",
    "fs.evaluate_scorers(scorers=luq, sampling_temperature=0.4, num_responses=5, progress=True)"
   ]
  },
  {
   "cell_type": "code",
   "execution_count": null,
   "id": "1d40087c",
   "metadata": {},
   "outputs": [],
   "source": []
  }
 ],
 "metadata": {
  "kernelspec": {
   "display_name": ".venv",
   "language": "python",
   "name": "python3"
  },
  "language_info": {
   "codemirror_mode": {
    "name": "ipython",
    "version": 3
   },
   "file_extension": ".py",
   "mimetype": "text/x-python",
   "name": "python",
   "nbconvert_exporter": "python",
   "pygments_lexer": "ipython3",
   "version": "3.12.3"
  }
 },
 "nbformat": 4,
 "nbformat_minor": 5
}

{
 "cells": [
  {
   "cell_type": "markdown",
   "metadata": {},
   "source": [
    "# Demonstrating the `OrchestratorTroubleshootingAgent`\n",
    "\n",
    "This notebook demonstrates how to use the `OrchestratorTroubleshootingAgent` from the `uqlm` package to troubleshoot UiPath Orchestrator jobs. The agent is designed to fetch job details, and (in future implementations) use an LLM to suggest solutions, score them using UQ methods, and optionally send notifications to Slack.\n",
    "\n",
    "**Prerequisites:**\n",
    "1. The `uipath` and `uipath-langchain` packages must be installed (`pip install uipath uipath-langchain`).\n",
    "2. You need access to a UiPath Orchestrator instance and potentially a UiPath AI Trust Layer / LLM Gateway if using UiPath-managed LLMs.\n",
    "3. Necessary environment variables must be set up for authentication with your UiPath services (Orchestrator and potentially LLM services). This is typically done using the UiPath CLI (`uipath auth`) or by manually setting them."
   ]
  },
  {
   "cell_type": "markdown",
   "metadata": {},
   "source": [
    "## 1. Import `OrchestratorTroubleshootingAgent`"
   ]
  },
  {
   "cell_type": "code",
   "execution_count": null,
   "metadata": {},
   "outputs": [],
   "source": [
    "try:\n",
    "    from uqlm import OrchestratorTroubleshootingAgent\n",
    "    # If you also want to test the uipath_llms module directly (optional for this agent demo)\n",
    "    # from uqlm.uipath_llms import get_uipath_llm, invoke_uipath_llm \n",
    "    print(\"Successfully imported OrchestratorTroubleshootingAgent.\")\n",
    "except ImportError as e:\n",
    "    print(f\"Error importing OrchestratorTroubleshootingAgent: {e}\")\n",
    "    print(\"Please ensure that the UQLM package is correctly installed and all dependencies are available.\")"
   ]
  },
  {
   "cell_type": "markdown",
   "metadata": {},
   "source": [
    "## 2. Set Up Environment Variables (User Action Required)\n",
    "\n",
    "The `OrchestratorTroubleshootingAgent` relies on environment variables for connecting to UiPath Orchestrator and potentially for the LLM interactions via `uipath-langchain`.\n",
    "\n",
    "**For Orchestrator Connection (via `uipath` SDK):**\n",
    "- `UIPATH_URL`: Your UiPath Automation Cloud URL (e.g., `https://cloud.uipath.com/yourorg/yourtenant`).\n",
    "- `UIPATH_CLIENT_ID`: Your UiPath application client ID (for OAuth).\n",
    "- `UIPATH_CLIENT_SECRET`: Your UiPath application client secret (for OAuth).\n",
    "- OR `UIPATH_ACCESS_TOKEN`: A direct access token.\n",
    "- `UIPATH_FOLDER_PATH` or `UIPATH_FOLDER_KEY`: Optional, to specify the Orchestrator folder context if not using the default.\n",
    "\n",
    "**For UiPath LLM usage (via `uipath-langchain` as used by `uqlm.uipath_llms`):**\n",
    "- Similar variables as above might be used if the LLM is also accessed via the same UiPath cloud instance, or specific variables for the LLM service if different.\n",
    "\n",
    "**For Slack Notifications (Placeholder):**\n",
    "- `SLACK_DEFAULT_CHANNEL`: Optional, if you want to use a default Slack channel other than 'default-general'.\n",
    "- `SLACK_WEBHOOK_URL` or `SLACK_BOT_TOKEN`: Will be needed when Slack integration is fully implemented.\n",
    "\n",
    "Ensure these are set in your environment where this notebook is run. You can set them in your shell or using a `.env` file with a library like `python-dotenv`."
   ]
  },
  {
   "cell_type": "code",
   "execution_count": null,
   "metadata": {},
   "outputs": [],
   "source": [
    "# Example of how you might load them if using python-dotenv (optional, not run here):\n",
    "# from dotenv import load_dotenv\n",
    "# load_dotenv()\n",
    "\n",
    "import os\n",
    "print(f\"UIPATH_URL (example): {os.getenv('UIPATH_URL')}\")\n",
    "print(\"Ensure other necessary UIPATH_* and SLACK_* environment variables are set for full functionality.\")"
   ]
  },
  {
   "cell_type": "markdown",
   "metadata": {},
   "source": [
    "## 3. Instantiate `OrchestratorTroubleshootingAgent`\n",
    "\n",
    "You'll need to provide a `jobKey`. This is the ID or GUID of the Orchestrator job you want to troubleshoot.\n",
    "\n",
    "**Replace `\"YOUR_JOB_KEY_HERE\"` with an actual Job Key from your Orchestrator instance that your configured credentials can access.** The Job Key is typically a long integer ID."
   ]
  },
  {
   "cell_type": "code",
   "execution_count": null,
   "metadata": {},
   "outputs": [],
   "source": [
    "agent = None\n",
    "try:\n",
    "    # IMPORTANT: Replace this with an actual Job Key from your Orchestrator\n",
    "    # This should typically be a long integer ID, e.g., 1234567\n",
    "    target_job_key = \"YOUR_JOB_KEY_HERE\" \n",
    "    \n",
    "    # Optional: Specify Orchestrator folder if needed and not covered by environment variables\n",
    "    # target_orchestrator_folder = \"Default\"\n",
    "    target_orchestrator_folder = None\n",
    "\n",
    "    # Optional: Pass parameters for LLM or Slack if needed by your agent's future implementation\n",
    "    # For example, which LLM model to use or which Slack channel for notifications.\n",
    "    agent_params = {\n",
    "        \"llm_model_name\": \"anthropic.claude-3-opus-20240229-v1:0\", # Example model for uipath_llms\n",
    "        \"slack_notification_channel\": \"#orchestrator-alerts-demo\"\n",
    "    }\n",
    "    \n",
    "    print(f\"Attempting to initialize OrchestratorTroubleshootingAgent for jobKey: {target_job_key}...\")\n",
    "    agent = OrchestratorTroubleshootingAgent(\n",
    "        jobKey=target_job_key,\n",
    "        orchestrator_folder=target_orchestrator_folder,\n",
    "        **agent_params\n",
    "    )\n",
    "    print(\"OrchestratorTroubleshootingAgent initialized successfully.\")\n",
    "    \n"
    "except ImportError:\n",
    "    print(\"Skipping Agent initialization as OrchestratorTroubleshootingAgent could not be imported.\")\n",
    "except ValueError as ve:\n",
    "    print(f\"ValueError during Agent initialization: {ve}\")\n",
    "except RuntimeError as re:\n",
    "    print(f\"RuntimeError during Agent initialization: {re}\")\n",
    "    print(\"This might be due to UiPath SDK configuration issues (e.g., missing env vars) or connection problems.\")\n",
    "except Exception as e:\n",
    "    print(f\"An unexpected error occurred during Agent initialization: {e}\")"
   ]
  },
  {
   "cell_type": "markdown",
   "metadata": {},
   "source": [
    "## 4. Call the `troubleshoot()` Method and Print Results"
   ]
  },
  {
   "cell_type": "code",
   "execution_count": null,
   "metadata": {},
   "outputs": [],
   "source": [
    "if agent is not None:\n",
    "    print(f\"\\nCalling troubleshoot() for jobKey: {agent.job_key}...\")\n",
    "    try:\n",
    "        troubleshooting_summary = agent.troubleshoot()\n",
    "        print(\"\\n--- Troubleshooting Summary ---\")\n",
    "        print(troubleshooting_summary)\n",
    "        print(\"-----------------------------\")\n",
    "        print(\"\\nNote: The LLM-based analysis and UQ scoring are currently placeholders within the agent.\")\n",
    "        print(\"The Slack notification part is also a placeholder and will print to console instead of sending a real message.\")\n",
    "    except NotImplementedError as nie:\n",
    "        print(f\"Troubleshooting step not fully implemented: {nie}\")\n",
    "    except RuntimeError as re:\n",
    "        print(f\"RuntimeError during troubleshooting: {re}\")\n",
    "        print(\"This could be due to issues fetching job details (e.g., job not found, auth error, network issue). Please check Orchestrator and previous error messages.\")\n",
    "    except Exception as e:\n",
    "        print(f\"An unexpected error occurred during troubleshooting: {e}\")\n",
    "else:\n",
    "    print(\"Agent not initialized. Skipping troubleshoot() call.\")"
   ]
  },
  {
   "cell_type": "markdown",
   "metadata": {},
   "source": [
    "## 5. Conclusion\n",
    "\n",
    "This notebook provided a basic demonstration of the `OrchestratorTroubleshootingAgent`. Key takeaways:\n",
    "- Ensure correct setup of UiPath environment variables.\n",
    "- Replace placeholder values (especially `YOUR_JOB_KEY_HERE`) with actual data from your Orchestrator instance.\n",
    "- The agent's core troubleshooting logic (LLM interaction, UQ scoring) and Slack integration are currently placeholders for future development.\n",
    "- The `get_job_details()` method attempts a live API call to Orchestrator, so valid credentials and network access are required for that part to succeed."
   ]
  }
 ],
 "metadata": {
  "kernelspec": {
   "display_name": "Python 3 (ipykernel)",
   "language": "python",
   "name": "python3"
  },
  "language_info": {
   "codemirror_mode": {
    "name": "ipython",
    "version": 3
   },
   "file_extension": ".py",
   "mimetype": "text/x-python",
   "name": "python",
   "nbconvert_exporter": "python",
   "pygments_lexer": "ipython3",
   "version": "3.10.13" 
  }
 },
 "nbformat": 4,
 "nbformat_minor": 5
}
